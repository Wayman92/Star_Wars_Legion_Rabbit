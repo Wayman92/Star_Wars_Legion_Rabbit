{
 "cells": [
  {
   "cell_type": "code",
   "execution_count": 2,
   "id": "da207620-a7e1-4148-bf52-cb51133e6a22",
   "metadata": {
    "tags": []
   },
   "outputs": [],
   "source": [
    "import markdown"
   ]
  },
  {
   "cell_type": "code",
   "execution_count": null,
   "id": "afb5c532-ed2e-4169-b79a-1ad7128e786b",
   "metadata": {},
   "outputs": [],
   "source": []
  }
 ],
 "metadata": {
  "kernelspec": {
   "display_name": "Python 3 (ipykernel)",
   "language": "python",
   "name": "python3"
  },
  "language_info": {
   "codemirror_mode": {
    "name": "ipython",
    "version": 3
   },
   "file_extension": ".py",
   "mimetype": "text/x-python",
   "name": "python",
   "nbconvert_exporter": "python",
   "pygments_lexer": "ipython3",
   "version": "3.7.2"
  }
 },
 "nbformat": 4,
 "nbformat_minor": 5
}

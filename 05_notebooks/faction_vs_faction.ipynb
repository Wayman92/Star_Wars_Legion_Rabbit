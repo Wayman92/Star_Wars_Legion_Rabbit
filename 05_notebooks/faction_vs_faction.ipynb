{
 "cells": [
  {
   "cell_type": "code",
   "execution_count": 1,
   "id": "eaacdd4f-7b02-45b1-81e6-5015c26f9780",
   "metadata": {
    "tags": []
   },
   "outputs": [],
   "source": [
    "import pandas as pd\n",
    "import numpy as np\n",
    "import seaborn as sns\n",
    "raw_path = \"C:\\\\Users\\\\janwe\\\\OneDrive\\\\Dokumente\\\\Projekte\\\\Star_Wars_Legion_Rabbit\\\\01_data\\\\01_raw\"\n",
    "preprocessed_path = \"C:\\\\Users\\\\janwe\\\\OneDrive\\Dokumente\\\\Projekte\\\\Star_Wars_Legion_Rabbit\\\\01_data\\\\02_processed\"\n",
    "\n",
    "excel_pd = pd.read_excel(raw_path+\"\\Liga.xlsx\",index_col=0,sheet_name='Spiele')\n",
    "pd.set_option('display.max_columns', None)\n",
    "pd.set_option('display.max_rows', None)"
   ]
  },
  {
   "cell_type": "code",
   "execution_count": 2,
   "id": "5db082f0-deae-4b23-b4ce-90e0d53a4f8d",
   "metadata": {
    "tags": []
   },
   "outputs": [],
   "source": [
    "excel_pd['Gewinner_Fraktion'] = np.select(\n",
    "    [\n",
    "        excel_pd['Spieler_1'] == excel_pd['Gewinner'], \n",
    "        excel_pd['Spieler_2'] == excel_pd['Gewinner']\n",
    "    ], \n",
    "    [\n",
    "        excel_pd['Fraktion_Spieler_1'], \n",
    "        excel_pd['Fraktion_Spieler_2']\n",
    "    ], \n",
    "    default=None\n",
    ")"
   ]
  },
  {
   "cell_type": "code",
   "execution_count": 3,
   "id": "906d26c2-bae1-4115-9eed-83cde25d0265",
   "metadata": {
    "tags": []
   },
   "outputs": [],
   "source": [
    "excel_pd['Looser_Fraktion'] = np.select(\n",
    "    [\n",
    "        excel_pd['Spieler_1'] == excel_pd['Gewinner'], \n",
    "        excel_pd['Spieler_2'] == excel_pd['Gewinner']\n",
    "    ], \n",
    "    [\n",
    "        excel_pd['Fraktion_Spieler_2'], \n",
    "        excel_pd['Fraktion_Spieler_1']\n",
    "    ], \n",
    "    default=None\n",
    ")"
   ]
  },
  {
   "cell_type": "code",
   "execution_count": 4,
   "id": "67d8c8b3-8398-42c3-9ce8-f3c763f7b935",
   "metadata": {
    "tags": []
   },
   "outputs": [
    {
     "data": {
      "text/html": [
       "<div>\n",
       "<style scoped>\n",
       "    .dataframe tbody tr th:only-of-type {\n",
       "        vertical-align: middle;\n",
       "    }\n",
       "\n",
       "    .dataframe tbody tr th {\n",
       "        vertical-align: top;\n",
       "    }\n",
       "\n",
       "    .dataframe thead th {\n",
       "        text-align: right;\n",
       "    }\n",
       "</style>\n",
       "<table border=\"1\" class=\"dataframe\">\n",
       "  <thead>\n",
       "    <tr style=\"text-align: right;\">\n",
       "      <th></th>\n",
       "      <th>Spieltag</th>\n",
       "      <th>Spieler_1</th>\n",
       "      <th>Fraktion_Spieler_1</th>\n",
       "      <th>Spieler_2</th>\n",
       "      <th>Fraktion_Spieler_2</th>\n",
       "      <th>Gewinner</th>\n",
       "      <th>Gewinner_Fraktion</th>\n",
       "      <th>Looser_Fraktion</th>\n",
       "    </tr>\n",
       "    <tr>\n",
       "      <th>Planet</th>\n",
       "      <th></th>\n",
       "      <th></th>\n",
       "      <th></th>\n",
       "      <th></th>\n",
       "      <th></th>\n",
       "      <th></th>\n",
       "      <th></th>\n",
       "      <th></th>\n",
       "    </tr>\n",
       "  </thead>\n",
       "  <tbody>\n",
       "    <tr>\n",
       "      <th>Hoth</th>\n",
       "      <td>Spieltag 1</td>\n",
       "      <td>Jan W.</td>\n",
       "      <td>Rebellen</td>\n",
       "      <td>Kevin</td>\n",
       "      <td>Imperium</td>\n",
       "      <td>Kevin</td>\n",
       "      <td>Imperium</td>\n",
       "      <td>Rebellen</td>\n",
       "    </tr>\n",
       "    <tr>\n",
       "      <th>Hoth</th>\n",
       "      <td>Spieltag 1</td>\n",
       "      <td>Krauti</td>\n",
       "      <td>Seperatisten</td>\n",
       "      <td>Matu</td>\n",
       "      <td>Klone</td>\n",
       "      <td>Krauti</td>\n",
       "      <td>Seperatisten</td>\n",
       "      <td>Klone</td>\n",
       "    </tr>\n",
       "    <tr>\n",
       "      <th>Hoth</th>\n",
       "      <td>Spieltag 1</td>\n",
       "      <td>Mustafa</td>\n",
       "      <td>Klone</td>\n",
       "      <td>Robin</td>\n",
       "      <td>Imperium</td>\n",
       "      <td>Robin</td>\n",
       "      <td>Imperium</td>\n",
       "      <td>Klone</td>\n",
       "    </tr>\n",
       "    <tr>\n",
       "      <th>Hoth</th>\n",
       "      <td>Spieltag 2</td>\n",
       "      <td>Robin</td>\n",
       "      <td>NaN</td>\n",
       "      <td>Krauti</td>\n",
       "      <td>NaN</td>\n",
       "      <td>NaN</td>\n",
       "      <td>None</td>\n",
       "      <td>None</td>\n",
       "    </tr>\n",
       "    <tr>\n",
       "      <th>Hoth</th>\n",
       "      <td>Spieltag 2</td>\n",
       "      <td>Mustafa</td>\n",
       "      <td>Klone</td>\n",
       "      <td>Jan W.</td>\n",
       "      <td>Rebellen</td>\n",
       "      <td>Mustafa</td>\n",
       "      <td>Klone</td>\n",
       "      <td>Rebellen</td>\n",
       "    </tr>\n",
       "  </tbody>\n",
       "</table>\n",
       "</div>"
      ],
      "text/plain": [
       "          Spieltag Spieler_1 Fraktion_Spieler_1 Spieler_2 Fraktion_Spieler_2  \\\n",
       "Planet                                                                         \n",
       "Hoth    Spieltag 1    Jan W.           Rebellen     Kevin           Imperium   \n",
       "Hoth    Spieltag 1    Krauti       Seperatisten      Matu              Klone   \n",
       "Hoth    Spieltag 1   Mustafa              Klone     Robin           Imperium   \n",
       "Hoth    Spieltag 2     Robin                NaN    Krauti                NaN   \n",
       "Hoth    Spieltag 2   Mustafa              Klone    Jan W.           Rebellen   \n",
       "\n",
       "       Gewinner Gewinner_Fraktion Looser_Fraktion  \n",
       "Planet                                             \n",
       "Hoth      Kevin          Imperium        Rebellen  \n",
       "Hoth     Krauti      Seperatisten           Klone  \n",
       "Hoth      Robin          Imperium           Klone  \n",
       "Hoth        NaN              None            None  \n",
       "Hoth    Mustafa             Klone        Rebellen  "
      ]
     },
     "execution_count": 4,
     "metadata": {},
     "output_type": "execute_result"
    }
   ],
   "source": [
    "excel_pd.head()"
   ]
  },
  {
   "cell_type": "code",
   "execution_count": 5,
   "id": "f0b7c3f8-a0e8-418d-83ef-aa02b0f6cddc",
   "metadata": {
    "tags": []
   },
   "outputs": [],
   "source": [
    "factions_winner = excel_pd['Gewinner_Fraktion'].unique()\n",
    "factions_looser = excel_pd['Looser_Fraktion'].unique()"
   ]
  },
  {
   "cell_type": "code",
   "execution_count": 13,
   "id": "9da4b77a-5a25-4513-ba15-44bb93e048b2",
   "metadata": {
    "tags": []
   },
   "outputs": [],
   "source": [
    "unique_factions = np.concatenate([factions_winner,factions_looser])"
   ]
  },
  {
   "cell_type": "code",
   "execution_count": 20,
   "id": "a94791a5-b51d-4601-8771-25b05e1f3d13",
   "metadata": {
    "tags": []
   },
   "outputs": [],
   "source": [
    "unique_factions = unique_factions[unique_factions != np.array(None)]"
   ]
  },
  {
   "cell_type": "code",
   "execution_count": 22,
   "id": "a66c49d2-06fb-462b-9cc7-b41e49a15163",
   "metadata": {
    "tags": []
   },
   "outputs": [],
   "source": [
    "unique_factions = np.unique(unique_factions)"
   ]
  },
  {
   "cell_type": "code",
   "execution_count": 65,
   "id": "77627890-70de-46b1-97f5-5f798a669d64",
   "metadata": {
    "tags": []
   },
   "outputs": [],
   "source": [
    "unique_factions = np.sort(unique_factions)"
   ]
  },
  {
   "cell_type": "code",
   "execution_count": 66,
   "id": "a38b64c4-d725-4510-9504-f23f69eb0367",
   "metadata": {
    "tags": []
   },
   "outputs": [
    {
     "data": {
      "text/plain": [
       "array(['Imperium', 'Klone', 'Rebellen', 'Schattenkollektiv',\n",
       "       'Seperatisten'], dtype=object)"
      ]
     },
     "execution_count": 66,
     "metadata": {},
     "output_type": "execute_result"
    }
   ],
   "source": [
    "unique_factions "
   ]
  },
  {
   "cell_type": "code",
   "execution_count": 59,
   "id": "9af08dc0-a88d-46de-bef5-965c8461f3c6",
   "metadata": {
    "tags": []
   },
   "outputs": [],
   "source": [
    "idx = unique_factions\n",
    "cols = unique_factions"
   ]
  },
  {
   "cell_type": "code",
   "execution_count": 60,
   "id": "95bf15d6-b3dd-4c2d-bdd2-bd34021d48f4",
   "metadata": {
    "tags": []
   },
   "outputs": [],
   "source": []
  },
  {
   "cell_type": "code",
   "execution_count": 70,
   "id": "5fb21939-1c22-4b00-93c9-312b9753c41d",
   "metadata": {
    "tags": []
   },
   "outputs": [
    {
     "name": "stdout",
     "output_type": "stream",
     "text": [
      "current win_faction: Imperium\n",
      "current losser_faction: Imperium\n",
      "current win_faction: Imperium\n",
      "current losser_faction: Klone\n",
      "current win_faction: Imperium\n",
      "current losser_faction: Rebellen\n",
      "current win_faction: Imperium\n",
      "current losser_faction: Schattenkollektiv\n",
      "current win_faction: Imperium\n",
      "current losser_faction: Seperatisten\n",
      "current win_faction: Klone\n",
      "current losser_faction: Imperium\n",
      "current win_faction: Klone\n",
      "current losser_faction: Klone\n",
      "current win_faction: Klone\n",
      "current losser_faction: Rebellen\n",
      "current win_faction: Klone\n",
      "current losser_faction: Schattenkollektiv\n",
      "current win_faction: Klone\n",
      "current losser_faction: Seperatisten\n",
      "current win_faction: Rebellen\n",
      "current losser_faction: Imperium\n",
      "current win_faction: Rebellen\n",
      "current losser_faction: Klone\n",
      "current win_faction: Rebellen\n",
      "current losser_faction: Rebellen\n",
      "current win_faction: Rebellen\n",
      "current losser_faction: Schattenkollektiv\n",
      "current win_faction: Rebellen\n",
      "current losser_faction: Seperatisten\n",
      "current win_faction: Schattenkollektiv\n",
      "current losser_faction: Imperium\n",
      "current win_faction: Schattenkollektiv\n",
      "current losser_faction: Klone\n",
      "current win_faction: Schattenkollektiv\n",
      "current losser_faction: Rebellen\n",
      "current win_faction: Schattenkollektiv\n",
      "current losser_faction: Schattenkollektiv\n",
      "current win_faction: Schattenkollektiv\n",
      "current losser_faction: Seperatisten\n",
      "current win_faction: Seperatisten\n",
      "current losser_faction: Imperium\n",
      "current win_faction: Seperatisten\n",
      "current losser_faction: Klone\n",
      "current win_faction: Seperatisten\n",
      "current losser_faction: Rebellen\n",
      "current win_faction: Seperatisten\n",
      "current losser_faction: Schattenkollektiv\n",
      "current win_faction: Seperatisten\n",
      "current losser_faction: Seperatisten\n"
     ]
    }
   ],
   "source": [
    "array = []\n",
    "for win_faction in unique_factions:\n",
    "    row = []\n",
    "    for looser_faction  in unique_factions:\n",
    "        val = sum(np.select(\n",
    "            [\n",
    "                (excel_pd['Gewinner_Fraktion'] ==win_faction) &\n",
    "                (excel_pd['Looser_Fraktion'] == looser_faction)\n",
    "            ], \n",
    "            [\n",
    "                1\n",
    "            ], \n",
    "                default=0\n",
    "        ))\n",
    "        row.append(val)\n",
    "    array.append(row)"
   ]
  },
  {
   "cell_type": "code",
   "execution_count": 72,
   "id": "16a16a2f-b98d-44c0-aa10-928bd2fc7547",
   "metadata": {
    "tags": []
   },
   "outputs": [],
   "source": [
    "df = pd.DataFrame(array,\n",
    "                   columns = cols, index = idx)"
   ]
  },
  {
   "cell_type": "code",
   "execution_count": 73,
   "id": "510bd899-8cd6-449b-a2fb-30ccfd64fa6c",
   "metadata": {
    "tags": []
   },
   "outputs": [
    {
     "data": {
      "text/html": [
       "<div>\n",
       "<style scoped>\n",
       "    .dataframe tbody tr th:only-of-type {\n",
       "        vertical-align: middle;\n",
       "    }\n",
       "\n",
       "    .dataframe tbody tr th {\n",
       "        vertical-align: top;\n",
       "    }\n",
       "\n",
       "    .dataframe thead th {\n",
       "        text-align: right;\n",
       "    }\n",
       "</style>\n",
       "<table border=\"1\" class=\"dataframe\">\n",
       "  <thead>\n",
       "    <tr style=\"text-align: right;\">\n",
       "      <th></th>\n",
       "      <th>Imperium</th>\n",
       "      <th>Klone</th>\n",
       "      <th>Rebellen</th>\n",
       "      <th>Schattenkollektiv</th>\n",
       "      <th>Seperatisten</th>\n",
       "    </tr>\n",
       "  </thead>\n",
       "  <tbody>\n",
       "    <tr>\n",
       "      <th>Imperium</th>\n",
       "      <td>0</td>\n",
       "      <td>2</td>\n",
       "      <td>2</td>\n",
       "      <td>1</td>\n",
       "      <td>1</td>\n",
       "    </tr>\n",
       "    <tr>\n",
       "      <th>Klone</th>\n",
       "      <td>0</td>\n",
       "      <td>0</td>\n",
       "      <td>1</td>\n",
       "      <td>0</td>\n",
       "      <td>0</td>\n",
       "    </tr>\n",
       "    <tr>\n",
       "      <th>Rebellen</th>\n",
       "      <td>0</td>\n",
       "      <td>0</td>\n",
       "      <td>0</td>\n",
       "      <td>1</td>\n",
       "      <td>0</td>\n",
       "    </tr>\n",
       "    <tr>\n",
       "      <th>Schattenkollektiv</th>\n",
       "      <td>0</td>\n",
       "      <td>1</td>\n",
       "      <td>0</td>\n",
       "      <td>0</td>\n",
       "      <td>1</td>\n",
       "    </tr>\n",
       "    <tr>\n",
       "      <th>Seperatisten</th>\n",
       "      <td>0</td>\n",
       "      <td>1</td>\n",
       "      <td>1</td>\n",
       "      <td>0</td>\n",
       "      <td>0</td>\n",
       "    </tr>\n",
       "  </tbody>\n",
       "</table>\n",
       "</div>"
      ],
      "text/plain": [
       "                   Imperium  Klone  Rebellen  Schattenkollektiv  Seperatisten\n",
       "Imperium                  0      2         2                  1             1\n",
       "Klone                     0      0         1                  0             0\n",
       "Rebellen                  0      0         0                  1             0\n",
       "Schattenkollektiv         0      1         0                  0             1\n",
       "Seperatisten              0      1         1                  0             0"
      ]
     },
     "execution_count": 73,
     "metadata": {},
     "output_type": "execute_result"
    }
   ],
   "source": [
    "df"
   ]
  },
  {
   "cell_type": "code",
   "execution_count": 75,
   "id": "2680df5f-0cbb-4bdb-9478-d069293e6409",
   "metadata": {
    "tags": []
   },
   "outputs": [
    {
     "data": {
      "text/plain": [
       "<AxesSubplot:>"
      ]
     },
     "execution_count": 75,
     "metadata": {},
     "output_type": "execute_result"
    },
    {
     "data": {
      "image/png": "[encoded data removed]",
      "text/plain": [
       "<Figure size 640x480 with 2 Axes>"
      ]
     },
     "metadata": {},
     "output_type": "display_data"
    }
   ],
   "source": [
    "sns.heatmap(df)"
   ]
  }
 ],
 "metadata": {
  "kernelspec": {
   "display_name": "Python 3 (ipykernel)",
   "language": "python",
   "name": "python3"
  },
  "language_info": {
   "codemirror_mode": {
    "name": "ipython",
    "version": 3
   },
   "file_extension": ".py",
   "mimetype": "text/x-python",
   "name": "python",
   "nbconvert_exporter": "python",
   "pygments_lexer": "ipython3",
   "version": "3.7.2"
  }
 },
 "nbformat": 4,
 "nbformat_minor": 5
}

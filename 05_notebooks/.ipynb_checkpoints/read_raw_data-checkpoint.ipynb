{
 "cells": [
  {
   "cell_type": "code",
   "execution_count": 1,
   "id": "6243e212-2a13-465f-a9ea-62104d624175",
   "metadata": {
    "tags": []
   },
   "outputs": [],
   "source": [
    "import pandas as pd\n",
    "import numpy as np\n",
    "\n",
    "path = \"C:\\\\Users\\\\janwe\\\\OneDrive\\\\Dokumente\\\\Projekte\\\\Star_Wars_Legion_Rabbit\\\\01_data\\\\01_raw\"\n",
    "\n",
    "excel_pd = pd.read_excel(path+\"\\Liga.xlsx\",index_col=0,sheet_name='Spiele')\n",
    "pd.set_option('display.max_columns', None)\n",
    "pd.set_option('display.max_rows', None)\n",
    "\n",
    "\n"
   ]
  },
  {
   "cell_type": "code",
   "execution_count": 11,
   "id": "9f75a34b-eadb-4002-b759-acd6bb5eb4b4",
   "metadata": {
    "tags": []
   },
   "outputs": [],
   "source": [
    "excel_pd['Looser'] = np.select(\n",
    "    [\n",
    "        excel_pd['Spieler_1'] == excel_pd['Gewinner'], \n",
    "        excel_pd['Spieler_2'] == excel_pd['Gewinner']\n",
    "    ], \n",
    "    [\n",
    "        excel_pd['Spieler_2'], \n",
    "        excel_pd['Spieler_1']\n",
    "    ], \n",
    "    default=None\n",
    ")"
   ]
  },
  {
   "cell_type": "code",
   "execution_count": 13,
   "id": "a81bab3a-3773-4bb9-b8a9-df8e1d9c2813",
   "metadata": {
    "tags": []
   },
   "outputs": [
    {
     "data": {
      "text/html": [
       "<div>\n",
       "<style scoped>\n",
       "    .dataframe tbody tr th:only-of-type {\n",
       "        vertical-align: middle;\n",
       "    }\n",
       "\n",
       "    .dataframe tbody tr th {\n",
       "        vertical-align: top;\n",
       "    }\n",
       "\n",
       "    .dataframe thead th {\n",
       "        text-align: right;\n",
       "    }\n",
       "</style>\n",
       "<table border=\"1\" class=\"dataframe\">\n",
       "  <thead>\n",
       "    <tr style=\"text-align: right;\">\n",
       "      <th></th>\n",
       "      <th>Spieltag</th>\n",
       "      <th>Spieler_1</th>\n",
       "      <th>Fraktion_Spieler_1</th>\n",
       "      <th>Spieler_2</th>\n",
       "      <th>Fraktion_Spieler_2</th>\n",
       "      <th>Gewinner</th>\n",
       "      <th>Looser</th>\n",
       "    </tr>\n",
       "    <tr>\n",
       "      <th>Planet</th>\n",
       "      <th></th>\n",
       "      <th></th>\n",
       "      <th></th>\n",
       "      <th></th>\n",
       "      <th></th>\n",
       "      <th></th>\n",
       "      <th></th>\n",
       "    </tr>\n",
       "  </thead>\n",
       "  <tbody>\n",
       "    <tr>\n",
       "      <th>Hoth</th>\n",
       "      <td>Spieltag 1</td>\n",
       "      <td>Jan W.</td>\n",
       "      <td>NaN</td>\n",
       "      <td>Kevin</td>\n",
       "      <td>NaN</td>\n",
       "      <td>Kevin</td>\n",
       "      <td>Jan W.</td>\n",
       "    </tr>\n",
       "    <tr>\n",
       "      <th>Hoth</th>\n",
       "      <td>Spieltag 1</td>\n",
       "      <td>Krauti</td>\n",
       "      <td>NaN</td>\n",
       "      <td>Matu</td>\n",
       "      <td>NaN</td>\n",
       "      <td>Krauti</td>\n",
       "      <td>Matu</td>\n",
       "    </tr>\n",
       "    <tr>\n",
       "      <th>Hoth</th>\n",
       "      <td>Spieltag 1</td>\n",
       "      <td>Mustafa</td>\n",
       "      <td>NaN</td>\n",
       "      <td>Robin</td>\n",
       "      <td>NaN</td>\n",
       "      <td>Robin</td>\n",
       "      <td>Mustafa</td>\n",
       "    </tr>\n",
       "    <tr>\n",
       "      <th>Hoth</th>\n",
       "      <td>Spieltag 2</td>\n",
       "      <td>Robin</td>\n",
       "      <td>NaN</td>\n",
       "      <td>Krauti</td>\n",
       "      <td>NaN</td>\n",
       "      <td>NaN</td>\n",
       "      <td>None</td>\n",
       "    </tr>\n",
       "    <tr>\n",
       "      <th>Hoth</th>\n",
       "      <td>Spieltag 2</td>\n",
       "      <td>Mustafa</td>\n",
       "      <td>NaN</td>\n",
       "      <td>Jan W.</td>\n",
       "      <td>NaN</td>\n",
       "      <td>NaN</td>\n",
       "      <td>None</td>\n",
       "    </tr>\n",
       "  </tbody>\n",
       "</table>\n",
       "</div>"
      ],
      "text/plain": [
       "          Spieltag Spieler_1  Fraktion_Spieler_1 Spieler_2  \\\n",
       "Planet                                                       \n",
       "Hoth    Spieltag 1    Jan W.                 NaN     Kevin   \n",
       "Hoth    Spieltag 1    Krauti                 NaN      Matu   \n",
       "Hoth    Spieltag 1   Mustafa                 NaN     Robin   \n",
       "Hoth    Spieltag 2     Robin                 NaN    Krauti   \n",
       "Hoth    Spieltag 2   Mustafa                 NaN    Jan W.   \n",
       "\n",
       "        Fraktion_Spieler_2 Gewinner   Looser  \n",
       "Planet                                        \n",
       "Hoth                   NaN    Kevin   Jan W.  \n",
       "Hoth                   NaN   Krauti     Matu  \n",
       "Hoth                   NaN    Robin  Mustafa  \n",
       "Hoth                   NaN      NaN     None  \n",
       "Hoth                   NaN      NaN     None  "
      ]
     },
     "execution_count": 13,
     "metadata": {},
     "output_type": "execute_result"
    }
   ],
   "source": [
    "excel_pd.head()"
   ]
  },
  {
   "cell_type": "code",
   "execution_count": null,
   "id": "713dfca7-faa5-4503-8782-d9dfa9a7197b",
   "metadata": {},
   "outputs": [],
   "source": []
  },
  {
   "cell_type": "code",
   "execution_count": 9,
   "id": "664bc048-3c1a-4ace-afdd-4c352a875367",
   "metadata": {
    "tags": []
   },
   "outputs": [],
   "source": [
    "all_player = excel_pd['Spieler_1'].unique()\n",
    "index = np.argwhere(all_player=='FREI')\n",
    "y = np.delete(all_player, index)"
   ]
  },
  {
   "cell_type": "code",
   "execution_count": 10,
   "id": "11afa8c2-b9a1-4324-acdf-993ba5563b90",
   "metadata": {
    "tags": []
   },
   "outputs": [
    {
     "data": {
      "text/plain": [
       "array(['Jan W.', 'Krauti', 'Mustafa', 'Robin', 'Kevin', 'Matu',\n",
       "       'Jan-Eric', 'Mike Menicks', 'Mathias Drozak', 'Klaudius',\n",
       "       'Markus Star-Killer', 'Sebastian Lazy', 'Thomas Ispaniel', 'Olli',\n",
       "       'Darius', 'FREI', 'Jens Wendigo', 'Cheesy', 'Marc', 'Orlando',\n",
       "       'Marco K.', 'Maik', 'Antonio'], dtype=object)"
      ]
     },
     "execution_count": 10,
     "metadata": {},
     "output_type": "execute_result"
    }
   ],
   "source": [
    "all_player"
   ]
  },
  {
   "cell_type": "code",
   "execution_count": 11,
   "id": "4ed1ea75-abfd-48ad-9cc3-46d0edc9f1b4",
   "metadata": {
    "tags": []
   },
   "outputs": [],
   "source": [
    "player_ranking = pd.DataFrame(all_player)"
   ]
  },
  {
   "cell_type": "code",
   "execution_count": 12,
   "id": "b188813a-0605-4a96-b0fb-c65d4a88b726",
   "metadata": {
    "tags": []
   },
   "outputs": [
    {
     "data": {
      "text/html": [
       "<div>\n",
       "<style scoped>\n",
       "    .dataframe tbody tr th:only-of-type {\n",
       "        vertical-align: middle;\n",
       "    }\n",
       "\n",
       "    .dataframe tbody tr th {\n",
       "        vertical-align: top;\n",
       "    }\n",
       "\n",
       "    .dataframe thead th {\n",
       "        text-align: right;\n",
       "    }\n",
       "</style>\n",
       "<table border=\"1\" class=\"dataframe\">\n",
       "  <thead>\n",
       "    <tr style=\"text-align: right;\">\n",
       "      <th></th>\n",
       "      <th>0</th>\n",
       "    </tr>\n",
       "  </thead>\n",
       "  <tbody>\n",
       "    <tr>\n",
       "      <th>0</th>\n",
       "      <td>Jan W.</td>\n",
       "    </tr>\n",
       "    <tr>\n",
       "      <th>1</th>\n",
       "      <td>Krauti</td>\n",
       "    </tr>\n",
       "    <tr>\n",
       "      <th>2</th>\n",
       "      <td>Mustafa</td>\n",
       "    </tr>\n",
       "    <tr>\n",
       "      <th>3</th>\n",
       "      <td>Robin</td>\n",
       "    </tr>\n",
       "    <tr>\n",
       "      <th>4</th>\n",
       "      <td>Kevin</td>\n",
       "    </tr>\n",
       "    <tr>\n",
       "      <th>5</th>\n",
       "      <td>Matu</td>\n",
       "    </tr>\n",
       "    <tr>\n",
       "      <th>6</th>\n",
       "      <td>Jan-Eric</td>\n",
       "    </tr>\n",
       "    <tr>\n",
       "      <th>7</th>\n",
       "      <td>Mike Menicks</td>\n",
       "    </tr>\n",
       "    <tr>\n",
       "      <th>8</th>\n",
       "      <td>Mathias Drozak</td>\n",
       "    </tr>\n",
       "    <tr>\n",
       "      <th>9</th>\n",
       "      <td>Klaudius</td>\n",
       "    </tr>\n",
       "    <tr>\n",
       "      <th>10</th>\n",
       "      <td>Markus Star-Killer</td>\n",
       "    </tr>\n",
       "    <tr>\n",
       "      <th>11</th>\n",
       "      <td>Sebastian Lazy</td>\n",
       "    </tr>\n",
       "    <tr>\n",
       "      <th>12</th>\n",
       "      <td>Thomas Ispaniel</td>\n",
       "    </tr>\n",
       "    <tr>\n",
       "      <th>13</th>\n",
       "      <td>Olli</td>\n",
       "    </tr>\n",
       "    <tr>\n",
       "      <th>14</th>\n",
       "      <td>Darius</td>\n",
       "    </tr>\n",
       "    <tr>\n",
       "      <th>15</th>\n",
       "      <td>FREI</td>\n",
       "    </tr>\n",
       "    <tr>\n",
       "      <th>16</th>\n",
       "      <td>Jens Wendigo</td>\n",
       "    </tr>\n",
       "    <tr>\n",
       "      <th>17</th>\n",
       "      <td>Cheesy</td>\n",
       "    </tr>\n",
       "    <tr>\n",
       "      <th>18</th>\n",
       "      <td>Marc</td>\n",
       "    </tr>\n",
       "    <tr>\n",
       "      <th>19</th>\n",
       "      <td>Orlando</td>\n",
       "    </tr>\n",
       "    <tr>\n",
       "      <th>20</th>\n",
       "      <td>Marco K.</td>\n",
       "    </tr>\n",
       "    <tr>\n",
       "      <th>21</th>\n",
       "      <td>Maik</td>\n",
       "    </tr>\n",
       "    <tr>\n",
       "      <th>22</th>\n",
       "      <td>Antonio</td>\n",
       "    </tr>\n",
       "  </tbody>\n",
       "</table>\n",
       "</div>"
      ],
      "text/plain": [
       "                     0\n",
       "0               Jan W.\n",
       "1               Krauti\n",
       "2              Mustafa\n",
       "3                Robin\n",
       "4                Kevin\n",
       "5                 Matu\n",
       "6             Jan-Eric\n",
       "7         Mike Menicks\n",
       "8       Mathias Drozak\n",
       "9             Klaudius\n",
       "10  Markus Star-Killer\n",
       "11      Sebastian Lazy\n",
       "12     Thomas Ispaniel\n",
       "13                Olli\n",
       "14              Darius\n",
       "15                FREI\n",
       "16        Jens Wendigo\n",
       "17              Cheesy\n",
       "18                Marc\n",
       "19             Orlando\n",
       "20            Marco K.\n",
       "21                Maik\n",
       "22             Antonio"
      ]
     },
     "execution_count": 12,
     "metadata": {},
     "output_type": "execute_result"
    }
   ],
   "source": [
    "player_ranking['win'] = "
   ]
  },
  {
   "cell_type": "code",
   "execution_count": null,
   "id": "7b9f7304-546a-4732-92ea-e9f4da3df345",
   "metadata": {},
   "outputs": [],
   "source": [
    "player_ranking.head()"
   ]
  },
  {
   "cell_type": "code",
   "execution_count": null,
   "id": "b5d2cd0e-f388-4600-92db-4638c0ce06c3",
   "metadata": {},
   "outputs": [],
   "source": []
  },
  {
   "cell_type": "code",
   "execution_count": null,
   "id": "b0c93e52-0d18-4f5c-bac7-b7f379773a60",
   "metadata": {},
   "outputs": [],
   "source": []
  }
 ],
 "metadata": {
  "kernelspec": {
   "display_name": "Python 3 (ipykernel)",
   "language": "python",
   "name": "python3"
  },
  "language_info": {
   "codemirror_mode": {
    "name": "ipython",
    "version": 3
   },
   "file_extension": ".py",
   "mimetype": "text/x-python",
   "name": "python",
   "nbconvert_exporter": "python",
   "pygments_lexer": "ipython3",
   "version": "3.7.2"
  }
 },
 "nbformat": 4,
 "nbformat_minor": 5
}

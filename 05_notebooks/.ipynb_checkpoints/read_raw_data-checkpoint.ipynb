{
 "cells": [
  {
   "cell_type": "code",
   "execution_count": 1,
   "id": "6243e212-2a13-465f-a9ea-62104d624175",
   "metadata": {
    "tags": []
   },
   "outputs": [],
   "source": [
    "import pandas as pd\n",
    "import numpy as np\n",
    "\n",
    "raw_path = \"C:\\\\Users\\\\janwe\\\\OneDrive\\\\Dokumente\\\\Projekte\\\\Star_Wars_Legion_Rabbit\\\\01_data\\\\01_raw\"\n",
    "preprocessed_path = \"C:\\\\Users\\\\janwe\\\\OneDrive\\Dokumente\\\\Projekte\\\\Star_Wars_Legion_Rabbit\\\\01_data\\\\02_processed\"\n",
    "\n",
    "excel_pd = pd.read_excel(raw_path+\"\\Liga.xlsx\",index_col=0,sheet_name='Spiele')\n",
    "pd.set_option('display.max_columns', None)\n",
    "pd.set_option('display.max_rows', None)"
   ]
  },
  {
   "cell_type": "code",
   "execution_count": 2,
   "id": "9f75a34b-eadb-4002-b759-acd6bb5eb4b4",
   "metadata": {
    "tags": []
   },
   "outputs": [],
   "source": [
    "excel_pd['Looser'] = np.select(\n",
    "    [\n",
    "        excel_pd['Spieler_1'] == excel_pd['Gewinner'], \n",
    "        excel_pd['Spieler_2'] == excel_pd['Gewinner']\n",
    "    ], \n",
    "    [\n",
    "        excel_pd['Spieler_2'], \n",
    "        excel_pd['Spieler_1']\n",
    "    ], \n",
    "    default=None\n",
    ")"
   ]
  },
  {
   "cell_type": "code",
   "execution_count": 3,
   "id": "a81bab3a-3773-4bb9-b8a9-df8e1d9c2813",
   "metadata": {
    "tags": []
   },
   "outputs": [
    {
     "data": {
      "text/html": [
       "<div>\n",
       "<style scoped>\n",
       "    .dataframe tbody tr th:only-of-type {\n",
       "        vertical-align: middle;\n",
       "    }\n",
       "\n",
       "    .dataframe tbody tr th {\n",
       "        vertical-align: top;\n",
       "    }\n",
       "\n",
       "    .dataframe thead th {\n",
       "        text-align: right;\n",
       "    }\n",
       "</style>\n",
       "<table border=\"1\" class=\"dataframe\">\n",
       "  <thead>\n",
       "    <tr style=\"text-align: right;\">\n",
       "      <th></th>\n",
       "      <th>Spieltag</th>\n",
       "      <th>Spieler_1</th>\n",
       "      <th>Fraktion_Spieler_1</th>\n",
       "      <th>Spieler_2</th>\n",
       "      <th>Fraktion_Spieler_2</th>\n",
       "      <th>Gewinner</th>\n",
       "      <th>Looser</th>\n",
       "    </tr>\n",
       "    <tr>\n",
       "      <th>Planet</th>\n",
       "      <th></th>\n",
       "      <th></th>\n",
       "      <th></th>\n",
       "      <th></th>\n",
       "      <th></th>\n",
       "      <th></th>\n",
       "      <th></th>\n",
       "    </tr>\n",
       "  </thead>\n",
       "  <tbody>\n",
       "    <tr>\n",
       "      <th>Hoth</th>\n",
       "      <td>Spieltag 1</td>\n",
       "      <td>Jan W.</td>\n",
       "      <td>NaN</td>\n",
       "      <td>Kevin</td>\n",
       "      <td>NaN</td>\n",
       "      <td>Kevin</td>\n",
       "      <td>Jan W.</td>\n",
       "    </tr>\n",
       "    <tr>\n",
       "      <th>Hoth</th>\n",
       "      <td>Spieltag 1</td>\n",
       "      <td>Krauti</td>\n",
       "      <td>NaN</td>\n",
       "      <td>Matu</td>\n",
       "      <td>NaN</td>\n",
       "      <td>Krauti</td>\n",
       "      <td>Matu</td>\n",
       "    </tr>\n",
       "    <tr>\n",
       "      <th>Hoth</th>\n",
       "      <td>Spieltag 1</td>\n",
       "      <td>Mustafa</td>\n",
       "      <td>NaN</td>\n",
       "      <td>Robin</td>\n",
       "      <td>NaN</td>\n",
       "      <td>Robin</td>\n",
       "      <td>Mustafa</td>\n",
       "    </tr>\n",
       "    <tr>\n",
       "      <th>Hoth</th>\n",
       "      <td>Spieltag 2</td>\n",
       "      <td>Robin</td>\n",
       "      <td>NaN</td>\n",
       "      <td>Krauti</td>\n",
       "      <td>NaN</td>\n",
       "      <td>NaN</td>\n",
       "      <td>None</td>\n",
       "    </tr>\n",
       "    <tr>\n",
       "      <th>Hoth</th>\n",
       "      <td>Spieltag 2</td>\n",
       "      <td>Mustafa</td>\n",
       "      <td>NaN</td>\n",
       "      <td>Jan W.</td>\n",
       "      <td>NaN</td>\n",
       "      <td>Mustafa</td>\n",
       "      <td>Jan W.</td>\n",
       "    </tr>\n",
       "  </tbody>\n",
       "</table>\n",
       "</div>"
      ],
      "text/plain": [
       "          Spieltag Spieler_1  Fraktion_Spieler_1 Spieler_2  \\\n",
       "Planet                                                       \n",
       "Hoth    Spieltag 1    Jan W.                 NaN     Kevin   \n",
       "Hoth    Spieltag 1    Krauti                 NaN      Matu   \n",
       "Hoth    Spieltag 1   Mustafa                 NaN     Robin   \n",
       "Hoth    Spieltag 2     Robin                 NaN    Krauti   \n",
       "Hoth    Spieltag 2   Mustafa                 NaN    Jan W.   \n",
       "\n",
       "        Fraktion_Spieler_2 Gewinner   Looser  \n",
       "Planet                                        \n",
       "Hoth                   NaN    Kevin   Jan W.  \n",
       "Hoth                   NaN   Krauti     Matu  \n",
       "Hoth                   NaN    Robin  Mustafa  \n",
       "Hoth                   NaN      NaN     None  \n",
       "Hoth                   NaN  Mustafa   Jan W.  "
      ]
     },
     "execution_count": 3,
     "metadata": {},
     "output_type": "execute_result"
    }
   ],
   "source": [
    "excel_pd.head()"
   ]
  },
  {
   "cell_type": "code",
   "execution_count": 4,
   "id": "5abaaa67-f46a-4c91-8a5c-2b022c52f910",
   "metadata": {
    "tags": []
   },
   "outputs": [],
   "source": [
    "ranking_winner = excel_pd\\\n",
    "    .groupby(['Planet','Gewinner'])\\\n",
    "    .size()\\\n",
    "    .reset_index(name='count_win')\\\n",
    "    .rename(columns={\"Gewinner\": \"Spieler\"})"
   ]
  },
  {
   "cell_type": "code",
   "execution_count": 6,
   "id": "1b952b24-8398-4ac9-b4b1-f0918ee1d734",
   "metadata": {
    "tags": []
   },
   "outputs": [],
   "source": [
    "ranking_looser = excel_pd\\\n",
    "    .groupby(['Planet','Looser'])\\\n",
    "    .size()\\\n",
    "    .reset_index(name='count_loss')\\\n",
    "    .rename(columns={\"Looser\": \"Spieler\"})"
   ]
  },
  {
   "cell_type": "code",
   "execution_count": 8,
   "id": "3ecf9370-3d55-4ec7-b70d-81cf969eac42",
   "metadata": {
    "tags": []
   },
   "outputs": [],
   "source": [
    "#ranking_all = ranking_winner.join(ranking_looser,lsuffix='Spieler',rsuffix='Spieler',how='outer')\n",
    "ranking_all = ranking_winner.merge(ranking_looser,how='outer')"
   ]
  },
  {
   "cell_type": "code",
   "execution_count": 9,
   "id": "c8528e4f-1128-4ff5-8399-887d0b31cee8",
   "metadata": {
    "tags": []
   },
   "outputs": [],
   "source": [
    "ranking_all = ranking_all.replace(np.nan, 0)\\\n",
    "    .sort_values(by=['Planet','count_win'],ascending=False)"
   ]
  },
  {
   "cell_type": "code",
   "execution_count": 10,
   "id": "6b48a32c-4063-444c-876a-05dd0b1894fc",
   "metadata": {
    "tags": []
   },
   "outputs": [
    {
     "data": {
      "text/html": [
       "<div>\n",
       "<style scoped>\n",
       "    .dataframe tbody tr th:only-of-type {\n",
       "        vertical-align: middle;\n",
       "    }\n",
       "\n",
       "    .dataframe tbody tr th {\n",
       "        vertical-align: top;\n",
       "    }\n",
       "\n",
       "    .dataframe thead th {\n",
       "        text-align: right;\n",
       "    }\n",
       "</style>\n",
       "<table border=\"1\" class=\"dataframe\">\n",
       "  <thead>\n",
       "    <tr style=\"text-align: right;\">\n",
       "      <th></th>\n",
       "      <th>Planet</th>\n",
       "      <th>Spieler</th>\n",
       "      <th>count_win</th>\n",
       "      <th>count_loss</th>\n",
       "    </tr>\n",
       "  </thead>\n",
       "  <tbody>\n",
       "    <tr>\n",
       "      <th>3</th>\n",
       "      <td>Hoth</td>\n",
       "      <td>Kevin</td>\n",
       "      <td>2.0</td>\n",
       "      <td>1.0</td>\n",
       "    </tr>\n",
       "    <tr>\n",
       "      <th>4</th>\n",
       "      <td>Hoth</td>\n",
       "      <td>Krauti</td>\n",
       "      <td>2.0</td>\n",
       "      <td>0.0</td>\n",
       "    </tr>\n",
       "    <tr>\n",
       "      <th>6</th>\n",
       "      <td>Hoth</td>\n",
       "      <td>Robin</td>\n",
       "      <td>2.0</td>\n",
       "      <td>0.0</td>\n",
       "    </tr>\n",
       "    <tr>\n",
       "      <th>2</th>\n",
       "      <td>Hoth</td>\n",
       "      <td>Jan W.</td>\n",
       "      <td>1.0</td>\n",
       "      <td>2.0</td>\n",
       "    </tr>\n",
       "    <tr>\n",
       "      <th>5</th>\n",
       "      <td>Hoth</td>\n",
       "      <td>Mustafa</td>\n",
       "      <td>1.0</td>\n",
       "      <td>2.0</td>\n",
       "    </tr>\n",
       "    <tr>\n",
       "      <th>9</th>\n",
       "      <td>Hoth</td>\n",
       "      <td>Matu</td>\n",
       "      <td>0.0</td>\n",
       "      <td>3.0</td>\n",
       "    </tr>\n",
       "    <tr>\n",
       "      <th>0</th>\n",
       "      <td>Endor</td>\n",
       "      <td>Klaudius</td>\n",
       "      <td>3.0</td>\n",
       "      <td>0.0</td>\n",
       "    </tr>\n",
       "    <tr>\n",
       "      <th>1</th>\n",
       "      <td>Endor</td>\n",
       "      <td>Mathias Drozak</td>\n",
       "      <td>1.0</td>\n",
       "      <td>1.0</td>\n",
       "    </tr>\n",
       "    <tr>\n",
       "      <th>7</th>\n",
       "      <td>Endor</td>\n",
       "      <td>Markus Star-Killer</td>\n",
       "      <td>0.0</td>\n",
       "      <td>1.0</td>\n",
       "    </tr>\n",
       "    <tr>\n",
       "      <th>8</th>\n",
       "      <td>Endor</td>\n",
       "      <td>Mike Menicks</td>\n",
       "      <td>0.0</td>\n",
       "      <td>2.0</td>\n",
       "    </tr>\n",
       "  </tbody>\n",
       "</table>\n",
       "</div>"
      ],
      "text/plain": [
       "  Planet             Spieler  count_win  count_loss\n",
       "3   Hoth               Kevin        2.0         1.0\n",
       "4   Hoth              Krauti        2.0         0.0\n",
       "6   Hoth               Robin        2.0         0.0\n",
       "2   Hoth              Jan W.        1.0         2.0\n",
       "5   Hoth             Mustafa        1.0         2.0\n",
       "9   Hoth                Matu        0.0         3.0\n",
       "0  Endor            Klaudius        3.0         0.0\n",
       "1  Endor      Mathias Drozak        1.0         1.0\n",
       "7  Endor  Markus Star-Killer        0.0         1.0\n",
       "8  Endor        Mike Menicks        0.0         2.0"
      ]
     },
     "execution_count": 10,
     "metadata": {},
     "output_type": "execute_result"
    }
   ],
   "source": [
    "ranking_all.head(15)"
   ]
  },
  {
   "cell_type": "code",
   "execution_count": 20,
   "id": "713dfca7-faa5-4503-8782-d9dfa9a7197b",
   "metadata": {},
   "outputs": [],
   "source": [
    "ranking_all.to_csv(preprocessed_path + '\\\\ranking.csv')"
   ]
  },
  {
   "cell_type": "code",
   "execution_count": 12,
   "id": "664bc048-3c1a-4ace-afdd-4c352a875367",
   "metadata": {
    "tags": []
   },
   "outputs": [],
   "source": [
    "all_player = excel_pd['Spieler_1'].unique()\n",
    "index = np.argwhere(all_player=='FREI')\n",
    "y = np.delete(all_player, index)"
   ]
  },
  {
   "cell_type": "code",
   "execution_count": 10,
   "id": "11afa8c2-b9a1-4324-acdf-993ba5563b90",
   "metadata": {
    "tags": []
   },
   "outputs": [
    {
     "data": {
      "text/plain": [
       "array(['Jan W.', 'Krauti', 'Mustafa', 'Robin', 'Kevin', 'Matu',\n",
       "       'Jan-Eric', 'Mike Menicks', 'Mathias Drozak', 'Klaudius',\n",
       "       'Markus Star-Killer', 'Sebastian Lazy', 'Thomas Ispaniel', 'Olli',\n",
       "       'Darius', 'FREI', 'Jens Wendigo', 'Cheesy', 'Marc', 'Orlando',\n",
       "       'Marco K.', 'Maik', 'Antonio'], dtype=object)"
      ]
     },
     "execution_count": 10,
     "metadata": {},
     "output_type": "execute_result"
    }
   ],
   "source": [
    "all_player"
   ]
  },
  {
   "cell_type": "code",
   "execution_count": 11,
   "id": "4ed1ea75-abfd-48ad-9cc3-46d0edc9f1b4",
   "metadata": {
    "tags": []
   },
   "outputs": [],
   "source": [
    "player_ranking = pd.DataFrame(all_player)"
   ]
  },
  {
   "cell_type": "code",
   "execution_count": null,
   "id": "7b9f7304-546a-4732-92ea-e9f4da3df345",
   "metadata": {},
   "outputs": [],
   "source": [
    "player_ranking.head()"
   ]
  }
 ],
 "metadata": {
  "kernelspec": {
   "display_name": "Python 3 (ipykernel)",
   "language": "python",
   "name": "python3"
  },
  "language_info": {
   "codemirror_mode": {
    "name": "ipython",
    "version": 3
   },
   "file_extension": ".py",
   "mimetype": "text/x-python",
   "name": "python",
   "nbconvert_exporter": "python",
   "pygments_lexer": "ipython3",
   "version": "3.7.2"
  }
 },
 "nbformat": 4,
 "nbformat_minor": 5
}
